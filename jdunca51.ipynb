{
 "cells": [
  {
   "cell_type": "code",
   "execution_count": 1,
   "metadata": {},
   "outputs": [
    {
     "name": "stdout",
     "output_type": "stream",
     "text": [
      "IPython version:      %6.6s 6.5.0\n"
     ]
    }
   ],
   "source": [
    "import IPython\n",
    "import json\n",
    "# Numpy is a library for working with Arrays\n",
    "import numpy as np\n",
    "# SciPy implements many different numerical algorithms\n",
    "import scipy as sp\n",
    "# Pandas is good with data tables\n",
    "import pandas as pd\n",
    "# Module for plotting\n",
    "import matplotlib\n",
    "#BeautifulSoup parses HTML documents (once you get them via requests)\n",
    "import bs4\n",
    "# Nltk helps with some natural language tasks, like stemming\n",
    "import nltk\n",
    "# Bson is a binary format of json to be stored in databases\n",
    "import bson\n",
    "# Mongo is one of common nosql databases \n",
    "# it stores/searches json documents natively\n",
    "import pymongo\n",
    "print (\"IPython version:      %6.6s\", IPython.__version__)"
   ]
  },
  {
   "cell_type": "code",
   "execution_count": 2,
   "metadata": {},
   "outputs": [
    {
     "name": "stdout",
     "output_type": "stream",
     "text": [
      "Make a 2 row x 3 column array of random numbers\n",
      "[[0.18604365 0.34300537 0.75021273]\n",
      " [0.91450906 0.18030881 0.69946581]]\n",
      "Add 5 to every element\n",
      "[[5.18604365 5.34300537 5.75021273]\n",
      " [5.91450906 5.18030881 5.69946581]]\n",
      "Get the first row\n",
      "[5.18604365 5.34300537 5.75021273]\n"
     ]
    }
   ],
   "source": [
    "#Here is what numpy can do\\n\",\n",
    "print (\"Make a 2 row x 3 column array of random numbers\")\n",
    "x = np.random.random((2, 3))\n",
    "print (x)\n",
    "\n",
    "#array operation (as in R)\n",
    "print (\"Add 5 to every element\")\n",
    "x = x + 5\n",
    "print (x)\n",
    "\n",
    "# get a slice (first row) (as in R)\n",
    "print (\"Get the first row\")\n",
    "print (x[0, :])"
   ]
  },
  {
   "cell_type": "code",
   "execution_count": 3,
   "metadata": {},
   "outputs": [
    {
     "data": {
      "text/plain": [
       "<function ndarray.any>"
      ]
     },
     "execution_count": 3,
     "metadata": {},
     "output_type": "execute_result"
    }
   ],
   "source": [
    "# IPython is quite modern: just press <TAB> at the end of the unfinished statement to see the documentation\n",
    "#       on possible completions.\n",
    "#       In the code cell below, type x.<TAB>, to find built-in operations for x\n",
    "x.any"
   ]
  },
  {
   "cell_type": "code",
   "execution_count": 4,
   "metadata": {},
   "outputs": [
    {
     "data": {
      "image/png": "[encoded data removed]",
      "text/plain": [
       "<Figure size 432x288 with 1 Axes>"
      ]
     },
     "metadata": {},
     "output_type": "display_data"
    }
   ],
   "source": [
    "%matplotlib inline \n",
    "import matplotlib.pyplot as plt\n",
    "heads = np.random.binomial(500, .5, size=500)\n",
    "histogram = plt.hist(heads, bins=10)"
   ]
  },
  {
   "cell_type": "markdown",
   "metadata": {
    "collapsed": true
   },
   "source": [
    "# Task 1\n",
    "## write a program to produce Fibonacci numbers up to 1000000"
   ]
  },
  {
   "cell_type": "code",
   "execution_count": 5,
   "metadata": {},
   "outputs": [
    {
     "name": "stdout",
     "output_type": "stream",
     "text": [
      "F[0] = 0,\n",
      "F[1] = 1,\n",
      "F[2] = 1,\n",
      "F[3] = 2,\n",
      "F[4] = 3,\n",
      "F[5] = 5,\n",
      "F[6] = 8,\n",
      "F[7] = 13,\n",
      "F[8] = 21,\n",
      "F[9] = 34,\n",
      "F[10] = 55,\n",
      "F[11] = 89,\n",
      "F[12] = 144,\n",
      "F[13] = 233,\n",
      "F[14] = 377,\n",
      "F[15] = 610,\n",
      "F[16] = 987,\n",
      "F[17] = 1597,\n",
      "F[18] = 2584,\n",
      "F[19] = 4181,\n",
      "F[20] = 6765,\n",
      "F[21] = 10946,\n",
      "F[22] = 17711,\n",
      "F[23] = 28657,\n",
      "F[24] = 46368,\n",
      "F[25] = 75025,\n",
      "F[26] = 121393,\n",
      "F[27] = 196418,\n",
      "F[28] = 317811,\n",
      "F[29] = 514229,\n",
      "F[30] = 832040.\n"
     ]
    }
   ],
   "source": [
    "n = 0\n",
    "cur_num = 0 # F_n-2\n",
    "next_num = 1 # F_n-1\n",
    "last_num = 1 # F_n\n",
    "fib_str = '' # Format string\n",
    "while cur_num < 1000000:\n",
    "    fib_str += 'F[{n}] = {cur_num},\\n'.format(n=n, cur_num=cur_num)\n",
    "    cur_num = next_num # F_n-2 -> F_n-1\n",
    "    next_num = last_num # F_n-1 -> F_n\n",
    "    last_num = cur_num + next_num # F_n -> F_n+1 = F_n + F_n-1\n",
    "    n += 1 # F_n+1, F_n, F_n-1 -> F_n, F_n-1, F_n-2\n",
    "print(fib_str.rstrip(',\\n') + '.') # Format print string"
   ]
  },
  {
   "cell_type": "markdown",
   "metadata": {},
   "source": [
    "# Task 2\n",
    "## write a program to simulate 1000 tosses of a fair coin (use np.random.binomial)\n",
    "## Calculate the mean and standard deviation of that sample"
   ]
  },
  {
   "cell_type": "code",
   "execution_count": 6,
   "metadata": {},
   "outputs": [
    {
     "name": "stdout",
     "output_type": "stream",
     "text": [
      "The sample mean is 500.153\n",
      "The sample standard deviation is 15.920100219533795\n",
      "The expected mean is 500.0\n",
      "The expected standard deviation is 15.811388300841896\n",
      "The difference of expected mean - sample is 0.15300000000002\n",
      "The difference of expected stdev - sample stdev is 0.108711918691899\n",
      "The second sample mean is 0.485\n",
      "The second sample standard deviation is 0.49977494935220584\n",
      "The expected mean is 0.5\n",
      "The expected standard deviation is 0.5\n",
      "The difference of expected mean - sample is 0.015000000000000013\n",
      "The difference of expected stdev - sample stdev is 0.00022505064779415607\n"
     ]
    }
   ],
   "source": [
    "#this question is ambiguous\n",
    "#there are multiple ways to simulate 1000 tosses of a fair coin\n",
    "\n",
    "import numpy as np\n",
    "n = 1000\n",
    "p = 0.5\n",
    "trials = 1000\n",
    "sample = np.random.binomial(n, p, trials) # way 1, this flips 1 coin 1000 times and then repeats that 1000 more times\n",
    "\n",
    "# this is the mean and stdev of 1000 flips\n",
    "# on average, 500 of the 1000 flips should be successes, hence the mean is ~500\n",
    "sample_mean = np.mean(sample)\n",
    "sample_stdev = np.std(sample)\n",
    "print('The sample mean is', sample_mean, sep = ' ')\n",
    "print('The sample standard deviation is', sample_stdev, sep = ' ')\n",
    "\n",
    "expected_mean = n * p\n",
    "expected_stdev = np.sqrt(n * p * (1 - p))\n",
    "print('The expected mean is', expected_mean, sep = ' ')\n",
    "print('The expected standard deviation is', expected_stdev, sep = ' ')\n",
    "\n",
    "print('The difference of expected mean - sample is', np.abs(expected_mean - sample_mean), sep = ' ')\n",
    "print('The difference of expected stdev - sample stdev is', np.abs(expected_stdev - sample_stdev), sep = ' ')\n",
    "\n",
    "\n",
    "n = 1\n",
    "p = 0.5\n",
    "trials = 1000 # 1000 total coin flips\n",
    "sample2 = np.random.binomial(n, p, trials) #way 2, this flips 1 coin 1 time and then repeats that 1000 times\n",
    "\n",
    "# this is the mean and stdev of 1 flip (performed 1000 times)\n",
    "# on average, half the time the flip is a success, hence the mean is ~0.5\n",
    "sample2_mean = np.mean(sample2)\n",
    "sample2_stdev = np.std(sample2)\n",
    "\n",
    "print('The second sample mean is', sample2_mean, sep = ' ')\n",
    "print('The second sample standard deviation is', sample2_stdev, sep = ' ')\n",
    "\n",
    "expected_mean = n * p\n",
    "expected_stdev = np.sqrt(n * p * (1 - p))\n",
    "print('The expected mean is', expected_mean, sep = ' ')\n",
    "print('The expected standard deviation is', expected_stdev, sep = ' ')\n",
    "\n",
    "print('The difference of expected mean - sample is', np.abs(expected_mean - sample2_mean), sep = ' ')\n",
    "print('The difference of expected stdev - sample stdev is', np.abs(expected_stdev - sample2_stdev), sep = ' ')\n",
    "\n",
    "\n",
    "# way 1 results in the mean being how many flips of 1000 are successes, ~500\n",
    "  # and the standard deviation being how many successes are a deviation away, ~15.8\n",
    "# way 2 results in the mean being how many flips out of 1 are successes, ~0.5\n",
    "  # and the standard deviation being how far a success or failure is away from the mean, ~0.5"
   ]
  },
  {
   "cell_type": "markdown",
   "metadata": {},
   "source": [
    "# Task 3\n",
    "## Produce a scatterplot of y = 0.5*x+e where x has gaussian (0, 5) and e has gaussian (0, 1) distributions \n",
    "### use numpy.random.normal to generate gaussian distribution"
   ]
  },
  {
   "cell_type": "code",
   "execution_count": 7,
   "metadata": {
    "scrolled": true
   },
   "outputs": [
    {
     "data": {
      "text/plain": [
       "<matplotlib.collections.PathCollection at 0x7f77360b6b00>"
      ]
     },
     "execution_count": 7,
     "metadata": {},
     "output_type": "execute_result"
    },
    {
     "data": {
      "image/png": "[encoded data removed]",
      "text/plain": [
       "<Figure size 432x288 with 1 Axes>"
      ]
     },
     "metadata": {},
     "output_type": "display_data"
    }
   ],
   "source": [
    "import numpy\n",
    "import matplotlib.pyplot as plt\n",
    "x = numpy.random.normal(0, 5, 100) # get 100 different random numbers in the gaussian(0, 5) distribution\n",
    "e = numpy.random.normal(0, 1, 100) # get 100 different random numbers in the gaussian(0, 1) distribution\n",
    "y = 0.5*x + e\n",
    "plt.scatter(x, y) # plot x vs y"
   ]
  }
 ],
 "metadata": {
  "kernelspec": {
   "display_name": "Python 3",
   "language": "python",
   "name": "python3"
  },
  "language_info": {
   "codemirror_mode": {
    "name": "ipython",
    "version": 3
   },
   "file_extension": ".py",
   "mimetype": "text/x-python",
   "name": "python",
   "nbconvert_exporter": "python",
   "pygments_lexer": "ipython3",
   "version": "3.5.2"
  }
 },
 "nbformat": 4,
 "nbformat_minor": 1
}
