{
 "cells": [
  {
   "cell_type": "code",
   "execution_count": 1,
   "metadata": {},
   "outputs": [
    {
     "name": "stdout",
     "output_type": "stream",
     "text": [
      "IPython version:      %6.6s 6.5.0\n"
     ]
    }
   ],
   "source": [
    "import IPython\n",
    "import json\n",
    "# Numpy is a library for working with Arrays\n",
    "import numpy as np\n",
    "# SciPy implements many different numerical algorithms\n",
    "import scipy as sp\n",
    "# Pandas is good with data tables\n",
    "import pandas as pd\n",
    "# Module for plotting\n",
    "import matplotlib\n",
    "#BeautifulSoup parses HTML documents (once you get them via requests)\n",
    "import bs4\n",
    "# Nltk helps with some natural language tasks, like stemming\n",
    "import nltk\n",
    "# Bson is a binary format of json to be stored in databases\n",
    "import bson\n",
    "# Mongo is one of common nosql databases \n",
    "# it stores/searches json documents natively\n",
    "import pymongo\n",
    "print (\"IPython version:      %6.6s\", IPython.__version__)"
   ]
  },
  {
   "cell_type": "code",
   "execution_count": 2,
   "metadata": {},
   "outputs": [
    {
     "name": "stdout",
     "output_type": "stream",
     "text": [
      "Make a 2 row x 3 column array of random numbers\n",
      "[[0.21753071 0.09797296 0.56656911]\n",
      " [0.38894631 0.05891172 0.22114902]]\n",
      "Add 5 to every element\n",
      "[[5.21753071 5.09797296 5.56656911]\n",
      " [5.38894631 5.05891172 5.22114902]]\n",
      "Get the first row\n",
      "[5.21753071 5.09797296 5.56656911]\n"
     ]
    }
   ],
   "source": [
    "#Here is what numpy can do\\n\",\n",
    "print (\"Make a 2 row x 3 column array of random numbers\")\n",
    "x = np.random.random((2, 3))\n",
    "print (x)\n",
    "\n",
    "#array operation (as in R)\n",
    "print (\"Add 5 to every element\")\n",
    "x = x + 5\n",
    "print (x)\n",
    "\n",
    "# get a slice (first row) (as in R)\n",
    "print (\"Get the first row\")\n",
    "print (x[0, :])"
   ]
  },
  {
   "cell_type": "code",
   "execution_count": 3,
   "metadata": {},
   "outputs": [
    {
     "data": {
      "text/plain": [
       "<function ndarray.any>"
      ]
     },
     "execution_count": 3,
     "metadata": {},
     "output_type": "execute_result"
    }
   ],
   "source": [
    "# IPython is quite modern: just press <TAB> at the end of the unfinished statement to see the documentation\n",
    "#       on possible completions.\n",
    "#       In the code cell below, type x.<TAB>, to find built-in operations for x\n",
    "x.any"
   ]
  },
  {
   "cell_type": "code",
   "execution_count": 4,
   "metadata": {},
   "outputs": [
    {
     "data": {
      "image/png": "[encoded data removed]",
      "text/plain": [
       "<Figure size 432x288 with 1 Axes>"
      ]
     },
     "metadata": {},
     "output_type": "display_data"
    }
   ],
   "source": [
    "%matplotlib inline \n",
    "import matplotlib.pyplot as plt\n",
    "heads = np.random.binomial(500, .5, size=500)\n",
    "histogram = plt.hist(heads, bins=10)"
   ]
  },
  {
   "cell_type": "markdown",
   "metadata": {
    "collapsed": true
   },
   "source": [
    "# Task 1\n",
    "## write a program to produce Fibonacci numbers up to 1000000"
   ]
  },
  {
   "cell_type": "code",
   "execution_count": 5,
   "metadata": {},
   "outputs": [
    {
     "name": "stdout",
     "output_type": "stream",
     "text": [
      "F[0] = 0,\n",
      "F[1] = 1,\n",
      "F[2] = 1,\n",
      "F[3] = 2,\n",
      "F[4] = 3,\n",
      "F[5] = 5,\n",
      "F[6] = 8,\n",
      "F[7] = 13,\n",
      "F[8] = 21,\n",
      "F[9] = 34,\n",
      "F[10] = 55,\n",
      "F[11] = 89,\n",
      "F[12] = 144,\n",
      "F[13] = 233,\n",
      "F[14] = 377,\n",
      "F[15] = 610,\n",
      "F[16] = 987,\n",
      "F[17] = 1597,\n",
      "F[18] = 2584,\n",
      "F[19] = 4181,\n",
      "F[20] = 6765,\n",
      "F[21] = 10946,\n",
      "F[22] = 17711,\n",
      "F[23] = 28657,\n",
      "F[24] = 46368,\n",
      "F[25] = 75025,\n",
      "F[26] = 121393,\n",
      "F[27] = 196418,\n",
      "F[28] = 317811,\n",
      "F[29] = 514229,\n",
      "F[30] = 832040.\n"
     ]
    }
   ],
   "source": [
    "n = 0\n",
    "cur_num = 0 # F_n-2\n",
    "next_num = 1 # F_n-1\n",
    "last_num = 1 # F_n\n",
    "fib_str = '' # Format string\n",
    "while cur_num < 1000000:\n",
    "    fib_str += 'F[{n}] = {cur_num},\\n'.format(n=n, cur_num=cur_num)\n",
    "    cur_num = next_num # F_n-2 -> F_n-1\n",
    "    next_num = last_num # F_n-1 -> F_n\n",
    "    last_num = cur_num + next_num # F_n -> F_n+1 = F_n + F_n-1\n",
    "    n += 1 # F_n+1, F_n, F_n-1 -> F_n, F_n-1, F_n-2\n",
    "print(fib_str.rstrip(',\\n') + '.') # Format print string"
   ]
  },
  {
   "cell_type": "markdown",
   "metadata": {},
   "source": [
    "# Task 2\n",
    "## write a program to simulate 1000 tosses of a fair coin (use np.random.binomial)\n",
    "## Calculate the mean and standard deviation of that sample"
   ]
  },
  {
   "cell_type": "code",
   "execution_count": 6,
   "metadata": {},
   "outputs": [
    {
     "name": "stdout",
     "output_type": "stream",
     "text": [
      "The sample mean is 499.99828501\n",
      "The sample standard deviation is 15.813298889504626\n",
      "The expected mean is 500.0\n",
      "The expected standard deviation is 15.811388300841896\n",
      "The difference of expected mean - sample is 0.0017149899999822082\n",
      "The difference of expected stdev - sample stdev is 0.0019105886627297508\n"
     ]
    }
   ],
   "source": [
    "import numpy as np\n",
    "n = 1000 # number of times to flip one coin\n",
    "p = 0.5 # probability of flipping desired outcome, let's say heads\n",
    "trials = 100000000 # how many times we will repeat the experiment\n",
    "sample = np.random.binomial(n, p, trials) # flip #trial coins n times each, with a probability p of success\n",
    "                                          # 100000000 coins flipped 1000 times each with a probability of 0.5 for heads (success)\n",
    "sample_mean = np.mean(sample) # calculate the sample mean\n",
    "sample_stdev = np.std(sample) # calculate the sample standard deviation\n",
    "print('The sample mean is', sample_mean, sep = ' ')\n",
    "print('The sample standard deviation is', sample_stdev, sep = ' ')\n",
    "\n",
    "expected_mean = n * p\n",
    "expected_stdev = np.sqrt(n * p * (1 - p))\n",
    "print('The expected mean is', expected_mean, sep = ' ')\n",
    "print('The expected standard deviation is', expected_stdev, sep = ' ')\n",
    "\n",
    "print('The difference of expected mean - sample is', np.abs(expected_mean - sample_mean), sep = ' ')\n",
    "print('The difference of expected stdev - sample stdev is', np.abs(expected_stdev - sample_stdev), sep = ' ')"
   ]
  },
  {
   "cell_type": "markdown",
   "metadata": {},
   "source": [
    "# Task 3\n",
    "## Produce a scatterplot of y = 0.5*x+e where x has gaussian (0, 5) and e has gaussian (0, 1) distributions \n",
    "### use numpy.random.normal to generate gaussian distribution"
   ]
  },
  {
   "cell_type": "code",
   "execution_count": 7,
   "metadata": {
    "scrolled": true
   },
   "outputs": [
    {
     "data": {
      "text/plain": [
       "<matplotlib.collections.PathCollection at 0x7f6de643fd30>"
      ]
     },
     "execution_count": 7,
     "metadata": {},
     "output_type": "execute_result"
    },
    {
     "data": {
      "image/png": "[encoded data removed]",
      "text/plain": [
       "<Figure size 432x288 with 1 Axes>"
      ]
     },
     "metadata": {},
     "output_type": "display_data"
    }
   ],
   "source": [
    "import numpy\n",
    "import matplotlib.pyplot as plt\n",
    "x = numpy.random.normal(0, 5, 100) # get 100 different random numbers in the gaussian(0, 5) distribution\n",
    "e = numpy.random.normal(0, 1, 100) # get 100 different random numbers in the gaussian(0, 1) distribution\n",
    "y = 0.5*x + e\n",
    "plt.scatter(x, y) # plot x vs y"
   ]
  }
 ],
 "metadata": {
  "kernelspec": {
   "display_name": "Python 3",
   "language": "python",
   "name": "python3"
  },
  "language_info": {
   "codemirror_mode": {
    "name": "ipython",
    "version": 3
   },
   "file_extension": ".py",
   "mimetype": "text/x-python",
   "name": "python",
   "nbconvert_exporter": "python",
   "pygments_lexer": "ipython3",
   "version": "3.5.2"
  }
 },
 "nbformat": 4,
 "nbformat_minor": 1
}
