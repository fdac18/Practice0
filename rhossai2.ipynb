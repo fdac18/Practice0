{
 "cells": [
  {
   "cell_type": "code",
   "execution_count": 11,
   "metadata": {
    "scrolled": false
   },
   "outputs": [
    {
     "name": "stdout",
     "output_type": "stream",
     "text": [
      "The fibonacci numbers:\n",
      "0\n",
      "1\n",
      "1\n",
      "2\n",
      "3\n",
      "5\n",
      "8\n",
      "13\n",
      "21\n",
      "34\n",
      "55\n",
      "89\n",
      "144\n",
      "233\n",
      "377\n",
      "610\n",
      "987\n",
      "1597\n",
      "2584\n",
      "4181\n",
      "6765\n",
      "10946\n",
      "17711\n",
      "28657\n",
      "46368\n",
      "75025\n",
      "121393\n",
      "196418\n",
      "317811\n",
      "514229\n",
      "832040\n"
     ]
    }
   ],
   "source": [
    "first = 0\n",
    "second = 1\n",
    "print(\"The fibonacci numbers:\")\n",
    "print (first)\n",
    "print (second)\n",
    "\n",
    "while(1):\n",
    "    next = first + second\n",
    "    if(next > 1000000):\n",
    "        break\n",
    "    print(next)\n",
    "    first = second\n",
    "    second = next"
   ]
  },
  {
   "cell_type": "code",
   "execution_count": 15,
   "metadata": {},
   "outputs": [
    {
     "name": "stdout",
     "output_type": "stream",
     "text": [
      "Mean:  0.481\n",
      "Standard Deviation:  0.49963886958482323\n"
     ]
    }
   ],
   "source": [
    "import numpy as numpy\n",
    "\n",
    "simulation = numpy.random.binomial(1, .5, 1000)\n",
    "print(\"Mean: \", numpy.mean(simulation))\n",
    "print(\"Standard Deviation: \" , numpy.std(simulation))"
   ]
  },
  {
   "cell_type": "code",
   "execution_count": 19,
   "metadata": {},
   "outputs": [
    {
     "data": {
      "image/png": "[encoded data removed]",
      "text/plain": [
       "<Figure size 432x288 with 1 Axes>"
      ]
     },
     "metadata": {},
     "output_type": "display_data"
    }
   ],
   "source": [
    "import numpy as np\n",
    "import matplotlib.pyplot as pyplot\n",
    "\n",
    "x = np.random.normal(0, 5, 80)\n",
    "e = np.random.normal(0, 1, 80)\n",
    "\n",
    "y = (0.5) * x + e\n",
    "pyplot.scatter(x,y)\n",
    "\n",
    "pyplot.title(\"Problem-3: Scatter Diagram\")\n",
    "pyplot.show()"
   ]
  }
 ],
 "metadata": {
  "kernelspec": {
   "display_name": "Python 3",
   "language": "python",
   "name": "python3"
  },
  "language_info": {
   "codemirror_mode": {
    "name": "ipython",
    "version": 3
   },
   "file_extension": ".py",
   "mimetype": "text/x-python",
   "name": "python",
   "nbconvert_exporter": "python",
   "pygments_lexer": "ipython3",
   "version": "3.5.2"
  }
 },
 "nbformat": 4,
 "nbformat_minor": 2
}
